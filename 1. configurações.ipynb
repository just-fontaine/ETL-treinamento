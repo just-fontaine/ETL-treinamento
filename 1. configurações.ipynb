{
 "cells": [
  {
   "cell_type": "markdown",
   "metadata": {},
   "source": [
    "#### bibliotecas"
   ]
  },
  {
   "cell_type": "code",
   "execution_count": 17,
   "metadata": {},
   "outputs": [],
   "source": [
    "# pip install selenium\n",
    "# pip install beautifulsoup4\n",
    "# pip install lxml\n",
    "# pip install webdriver-manager\n",
    "# pip install --upgrade selenium"
   ]
  },
  {
   "cell_type": "code",
   "execution_count": 18,
   "metadata": {},
   "outputs": [],
   "source": [
    "# caminho do chrome driver: \"C:\\fora do onedrive\\chromedriver-win64\\chromedriver.exe\""
   ]
  },
  {
   "cell_type": "markdown",
   "metadata": {},
   "source": [
    "#### jeito manual de usar o chromedriver"
   ]
  },
  {
   "cell_type": "code",
   "execution_count": 25,
   "metadata": {},
   "outputs": [],
   "source": [
    "from selenium import webdriver\n",
    "from selenium.webdriver.chrome.service import Service\n",
    "import time\n",
    "\n",
    "\n",
    "caminhoWD = r\"C:\\fora do onedrive\\chromedriver-win64\\chromedriver.exe\"\n",
    "service = Service(executable_path=caminhoWD)\n",
    "navegador = webdriver.Chrome(service=service)\n",
    "\n",
    "link = 'https://youtube.com.br'\n",
    "navegador.get(link)\n",
    "\n",
    "time.sleep(10)\n",
    "navegador.quit()"
   ]
  },
  {
   "cell_type": "markdown",
   "metadata": {},
   "source": [
    "#### jeito automatico de instalar o chromedriver"
   ]
  },
  {
   "cell_type": "code",
   "execution_count": null,
   "metadata": {},
   "outputs": [],
   "source": [
    "# pip install chromedriver_autoinstaller\n",
    "try:\n",
    "    import chromedriver_autoinstaller\n",
    "except ImportError:\n",
    "    import sys\n",
    "    !{sys.executable} -m pip install chromedriver_autoinstaller\n",
    "    import chromedriver_autoinstaller\n",
    "\n",
    "from selenium import webdriver\n",
    "\n",
    "chromedriver_autoinstaller.install()"
   ]
  }
 ],
 "metadata": {
  "kernelspec": {
   "display_name": "Python 3",
   "language": "python",
   "name": "python3"
  },
  "language_info": {
   "codemirror_mode": {
    "name": "ipython",
    "version": 3
   },
   "file_extension": ".py",
   "mimetype": "text/x-python",
   "name": "python",
   "nbconvert_exporter": "python",
   "pygments_lexer": "ipython3",
   "version": "3.12.4"
  }
 },
 "nbformat": 4,
 "nbformat_minor": 2
}
