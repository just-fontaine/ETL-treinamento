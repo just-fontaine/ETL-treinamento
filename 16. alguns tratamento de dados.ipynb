{
 "cells": [
  {
   "cell_type": "markdown",
   "metadata": {},
   "source": [
    "### LEMBRAR DE NAO EXECUTAR ESSE CODIGO"
   ]
  },
  {
   "cell_type": "code",
   "execution_count": 1,
   "metadata": {},
   "outputs": [],
   "source": [
    "import pandas as pd\n",
    "import pyodbc"
   ]
  },
  {
   "cell_type": "code",
   "execution_count": null,
   "metadata": {},
   "outputs": [],
   "source": [
    "# CONEXÃO COM O SSMS\n",
    "\n",
    "server = r'DESKTOP-5KQL2U6\\MSSQLSERVER01'\n",
    "database = 'Python'\n",
    "conexaoDB = pyodbc.connect('DRIVER={ODBC Driver 17 for SQL Server};'\n",
    "                           f'SERVER={server};'\n",
    "                           f'DATABASE={database};'\n",
    "                           'Trusted_Connection=yes;')\n",
    "\n",
    "cursor = conexaoDB.cursor()"
   ]
  },
  {
   "cell_type": "code",
   "execution_count": null,
   "metadata": {},
   "outputs": [],
   "source": [
    "df = pd.read_csv(\"CaminhoDoArquivo\")"
   ]
  },
  {
   "cell_type": "code",
   "execution_count": null,
   "metadata": {},
   "outputs": [],
   "source": [
    "cursor.execute('truncate table [NomeDaTabela]') #exclui o original para não sobrepor"
   ]
  },
  {
   "cell_type": "code",
   "execution_count": null,
   "metadata": {},
   "outputs": [],
   "source": [
    "# CONVERTER AS COLUNAS PARA O FORMATO CORRETO DO SSMS\n",
    "\n",
    "# POR EXEMPLO DATA PARA PD.TO_DATETIME()\n",
    "\n",
    "# COLUNAS COM CARACTERES ESPECIAIS PARA STRING (GERALMENTE DENTRO DO FOR)"
   ]
  },
  {
   "cell_type": "markdown",
   "metadata": {},
   "source": [
    "#### CONVERSÃO PARA DATA E PARA O FORMATO BRASILEIRO"
   ]
  },
  {
   "cell_type": "code",
   "execution_count": null,
   "metadata": {},
   "outputs": [],
   "source": [
    "# df['Date'] = pd.to_datetime(df['Date'])\n",
    "\n",
    "# df['Date'] = df['Date'].dt.strftime('%d/%m/%Y') -- DIA/MES/ANO\n",
    "\n",
    "# print(df['Date'].dtypes)  -- resultado deve ser datetime[ms]"
   ]
  },
  {
   "cell_type": "markdown",
   "metadata": {},
   "source": [
    "### USAR O COMANDO .fillna NOS DADOS PARA REMOVER OS VAZIOS"
   ]
  },
  {
   "cell_type": "code",
   "execution_count": null,
   "metadata": {},
   "outputs": [],
   "source": [
    "# EXEMPLO:\n",
    "\n",
    "df['Email'] = df['Email'].fillna('Sem Registro')\n",
    "df['Primeiro Nome'] = df['Primeiro Nome'].fillna('Sem Informações')\n",
    "df['Ultimo Nome'] = df['Ultimo Nome'].fillna('Sem Informações')"
   ]
  },
  {
   "cell_type": "code",
   "execution_count": null,
   "metadata": {},
   "outputs": [],
   "source": [
    "for index, linha in df.iterrows():\n",
    "    cursor.execute(\"INSERT INTO [Itens] (Começo, Meio, Fim) VALUES(?, ?, ?)\",\n",
    "                   (int(linha.Começo), int(linha.Meio), float(linha.Fim)))\n",
    "\n",
    "cursor.commit()\n",
    "cursor.close()\n",
    "conexaoDB.close()"
   ]
  }
 ],
 "metadata": {
  "kernelspec": {
   "display_name": "Python 3",
   "language": "python",
   "name": "python3"
  },
  "language_info": {
   "codemirror_mode": {
    "name": "ipython",
    "version": 3
   },
   "file_extension": ".py",
   "mimetype": "text/x-python",
   "name": "python",
   "nbconvert_exporter": "python",
   "pygments_lexer": "ipython3",
   "version": "3.12.4"
  }
 },
 "nbformat": 4,
 "nbformat_minor": 2
}
