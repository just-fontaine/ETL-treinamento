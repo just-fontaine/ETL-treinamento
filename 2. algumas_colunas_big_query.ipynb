{
 "cells": [
  {
   "cell_type": "code",
   "execution_count": 1,
   "metadata": {},
   "outputs": [],
   "source": [
    "# pip install google-cloud-bigquery\n",
    "# pip install --upgrade google-cloud-bigquery\n",
    "# pip install pandas-gbq"
   ]
  },
  {
   "cell_type": "code",
   "execution_count": 2,
   "metadata": {},
   "outputs": [],
   "source": [
    "from google.cloud import bigquery\n",
    "import pandas as pd\n",
    "import pandas_gbq"
   ]
  },
  {
   "cell_type": "code",
   "execution_count": 3,
   "metadata": {},
   "outputs": [],
   "source": [
    "# ESPECIFICANDO CAMINHO DAS CREDENCIAIS\n",
    "\n",
    "credencial = r'C:\\fora do onedrive\\Python Scripts\\google big query\\credenciais json\\python-curso-437819-ad5456cc6222.json'\n",
    "client = bigquery.Client.from_service_account_json(credencial)"
   ]
  },
  {
   "cell_type": "code",
   "execution_count": 4,
   "metadata": {},
   "outputs": [
    {
     "name": "stderr",
     "output_type": "stream",
     "text": [
      "c:\\Users\\henry\\AppData\\Local\\Programs\\Python\\Python312\\Lib\\site-packages\\google\\cloud\\bigquery\\table.py:1727: UserWarning: BigQuery Storage module not found, fetch data with the REST endpoint instead.\n",
      "  warnings.warn(\n"
     ]
    }
   ],
   "source": [
    "query = '''\n",
    "\n",
    "SELECT\n",
    "  string_field_0,\n",
    "  string_field_6,\n",
    "  string_field_4\n",
    "FROM\n",
    "  `python-curso-437819.conjunto.products_raw_data`\n",
    "WHERE\n",
    "  string_field_4 IN ('Easy Meals & Sides')\n",
    "\n",
    "'''\n",
    "\n",
    "resultado = client.query(query)\n",
    "\n",
    "'''\n",
    "for row in resultado:\n",
    "    print(row)\n",
    "'''\n",
    "\n",
    "df = resultado.to_dataframe()"
   ]
  },
  {
   "cell_type": "code",
   "execution_count": 5,
   "metadata": {},
   "outputs": [
    {
     "data": {
      "text/html": [
       "<div>\n",
       "<style scoped>\n",
       "    .dataframe tbody tr th:only-of-type {\n",
       "        vertical-align: middle;\n",
       "    }\n",
       "\n",
       "    .dataframe tbody tr th {\n",
       "        vertical-align: top;\n",
       "    }\n",
       "\n",
       "    .dataframe thead th {\n",
       "        text-align: right;\n",
       "    }\n",
       "</style>\n",
       "<table border=\"1\" class=\"dataframe\">\n",
       "  <thead>\n",
       "    <tr style=\"text-align: right;\">\n",
       "      <th></th>\n",
       "      <th>string_field_0</th>\n",
       "      <th>string_field_6</th>\n",
       "      <th>string_field_4</th>\n",
       "    </tr>\n",
       "  </thead>\n",
       "  <tbody>\n",
       "    <tr>\n",
       "      <th>0</th>\n",
       "      <td>Noodles, Masala</td>\n",
       "      <td>https://www.realcanadiansuperstore.ca/noodles-...</td>\n",
       "      <td>Easy Meals &amp; Sides</td>\n",
       "    </tr>\n",
       "    <tr>\n",
       "      <th>1</th>\n",
       "      <td>Yippee Masala Noodles</td>\n",
       "      <td>https://www.realcanadiansuperstore.ca/yippee-m...</td>\n",
       "      <td>Easy Meals &amp; Sides</td>\n",
       "    </tr>\n",
       "    <tr>\n",
       "      <th>2</th>\n",
       "      <td>Instant Noodle Soup Artificial Chicken Flavour</td>\n",
       "      <td>https://www.realcanadiansuperstore.ca/instant-...</td>\n",
       "      <td>Easy Meals &amp; Sides</td>\n",
       "    </tr>\n",
       "    <tr>\n",
       "      <th>3</th>\n",
       "      <td>Instant Pancit Canton, Hot</td>\n",
       "      <td>https://www.realcanadiansuperstore.ca/instant-...</td>\n",
       "      <td>Easy Meals &amp; Sides</td>\n",
       "    </tr>\n",
       "    <tr>\n",
       "      <th>4</th>\n",
       "      <td>Demae Ramen, Beef Flavour</td>\n",
       "      <td>https://www.realcanadiansuperstore.ca/demae-ra...</td>\n",
       "      <td>Easy Meals &amp; Sides</td>\n",
       "    </tr>\n",
       "  </tbody>\n",
       "</table>\n",
       "</div>"
      ],
      "text/plain": [
       "                                   string_field_0  \\\n",
       "0                                 Noodles, Masala   \n",
       "1                           Yippee Masala Noodles   \n",
       "2  Instant Noodle Soup Artificial Chicken Flavour   \n",
       "3                      Instant Pancit Canton, Hot   \n",
       "4                       Demae Ramen, Beef Flavour   \n",
       "\n",
       "                                      string_field_6      string_field_4  \n",
       "0  https://www.realcanadiansuperstore.ca/noodles-...  Easy Meals & Sides  \n",
       "1  https://www.realcanadiansuperstore.ca/yippee-m...  Easy Meals & Sides  \n",
       "2  https://www.realcanadiansuperstore.ca/instant-...  Easy Meals & Sides  \n",
       "3  https://www.realcanadiansuperstore.ca/instant-...  Easy Meals & Sides  \n",
       "4  https://www.realcanadiansuperstore.ca/demae-ra...  Easy Meals & Sides  "
      ]
     },
     "execution_count": 5,
     "metadata": {},
     "output_type": "execute_result"
    }
   ],
   "source": [
    "df.head(5)"
   ]
  }
 ],
 "metadata": {
  "kernelspec": {
   "display_name": "Python 3",
   "language": "python",
   "name": "python3"
  },
  "language_info": {
   "codemirror_mode": {
    "name": "ipython",
    "version": 3
   },
   "file_extension": ".py",
   "mimetype": "text/x-python",
   "name": "python",
   "nbconvert_exporter": "python",
   "pygments_lexer": "ipython3",
   "version": "3.12.4"
  }
 },
 "nbformat": 4,
 "nbformat_minor": 2
}
