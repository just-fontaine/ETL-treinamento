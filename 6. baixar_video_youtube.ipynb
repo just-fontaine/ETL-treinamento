{
 "cells": [
  {
   "cell_type": "markdown",
   "metadata": {},
   "source": [
    "#### ATUALMENTE NAO FUNCIONANDO 16/10/2024\n"
   ]
  },
  {
   "cell_type": "code",
   "execution_count": 2,
   "metadata": {},
   "outputs": [],
   "source": [
    "import sys\n",
    "import subprocess\n",
    "\n",
    "def instalar_importar(nome_biblioteca):\n",
    "    try:\n",
    "        return __import__(nome_biblioteca)\n",
    "    except ImportError:\n",
    "        try:\n",
    "            subprocess.check_call([sys.executable, '-m', 'pip', 'install', nome_biblioteca])\n",
    "        except subprocess.CalledProcessError as e:\n",
    "            print(f'erro {e}')\n",
    "            sys.exit(1)\n",
    "\n",
    "\n",
    "instalar_importar('pytube')"
   ]
  },
  {
   "cell_type": "code",
   "execution_count": 4,
   "metadata": {},
   "outputs": [],
   "source": [
    "from pytube import YouTube"
   ]
  },
  {
   "cell_type": "markdown",
   "metadata": {},
   "source": [
    "#### BAIXANDO APENAS AUDIO"
   ]
  },
  {
   "cell_type": "code",
   "execution_count": null,
   "metadata": {},
   "outputs": [],
   "source": [
    "from pytube import YouTube\n",
    "from pytube import request\n",
    "\n",
    "def my_patch():\n",
    "    request.default_range_size = 9437184 # Padrão do YouTube para arquivos maiores\n",
    "\n",
    "my_patch()\n",
    "\n",
    "URL = 'https://www.youtube.com/watch?v=VZHX58GU-NE'\n",
    "yt = YouTube(URL)\n",
    "audio_stream = yt.streams.filter(only_audio=True).first()\n",
    "pasta = r'C:\\videos youtube'\n",
    "nome_arquivo = 'como_baixar_videos_youtube.mp3'\n",
    "audio_stream.download(output_path=pasta, filename=nome_arquivo)\n",
    "print('Áudio baixado com sucesso!')\n"
   ]
  }
 ],
 "metadata": {
  "kernelspec": {
   "display_name": "Python 3",
   "language": "python",
   "name": "python3"
  },
  "language_info": {
   "codemirror_mode": {
    "name": "ipython",
    "version": 3
   },
   "file_extension": ".py",
   "mimetype": "text/x-python",
   "name": "python",
   "nbconvert_exporter": "python",
   "pygments_lexer": "ipython3",
   "version": "3.12.4"
  }
 },
 "nbformat": 4,
 "nbformat_minor": 2
}
