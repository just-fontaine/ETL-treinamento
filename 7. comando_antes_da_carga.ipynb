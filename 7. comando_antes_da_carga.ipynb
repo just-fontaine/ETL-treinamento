{
 "cells": [
  {
   "cell_type": "markdown",
   "metadata": {},
   "source": [
    "### INCOMPLETO"
   ]
  },
  {
   "cell_type": "code",
   "execution_count": 1,
   "metadata": {},
   "outputs": [],
   "source": [
    "import pandas as pd\n",
    "from google.cloud import bigquery\n",
    "from google.oauth2 import service_account\n",
    "from pandas_gbq import to_gbq\n",
    "from datetime import datetime"
   ]
  },
  {
   "cell_type": "code",
   "execution_count": 5,
   "metadata": {},
   "outputs": [],
   "source": [
    "df = pd.read_csv(r'C:\\fora do onedrive\\Python Scripts\\SQL\\fazendo minhas coisas\\banco de dados mercado\\mercado_com_data.csv', delimiter=',')"
   ]
  },
  {
   "cell_type": "code",
   "execution_count": 7,
   "metadata": {},
   "outputs": [],
   "source": [
    "df.drop(columns='Unnamed: 0', inplace=True)"
   ]
  },
  {
   "cell_type": "code",
   "execution_count": 17,
   "metadata": {},
   "outputs": [
    {
     "name": "stdout",
     "output_type": "stream",
     "text": [
      "Produtos                     object\n",
      "Categoria                    object\n",
      "Preco                        object\n",
      "ID                            int64\n",
      "Marca                        object\n",
      "Estoque                       int64\n",
      "Validade                     object\n",
      "Fornecedor                   object\n",
      "Preco_Por_Unidade            object\n",
      "Origem                       object\n",
      "Peso                         object\n",
      "Data                 datetime64[ns]\n",
      "dtype: object\n"
     ]
    }
   ],
   "source": [
    "print(df.dtypes)"
   ]
  },
  {
   "cell_type": "code",
   "execution_count": 15,
   "metadata": {},
   "outputs": [
    {
     "data": {
      "text/html": [
       "<div>\n",
       "<style scoped>\n",
       "    .dataframe tbody tr th:only-of-type {\n",
       "        vertical-align: middle;\n",
       "    }\n",
       "\n",
       "    .dataframe tbody tr th {\n",
       "        vertical-align: top;\n",
       "    }\n",
       "\n",
       "    .dataframe thead th {\n",
       "        text-align: right;\n",
       "    }\n",
       "</style>\n",
       "<table border=\"1\" class=\"dataframe\">\n",
       "  <thead>\n",
       "    <tr style=\"text-align: right;\">\n",
       "      <th></th>\n",
       "      <th>Produtos</th>\n",
       "      <th>Categoria</th>\n",
       "      <th>Preco</th>\n",
       "      <th>ID</th>\n",
       "      <th>Marca</th>\n",
       "      <th>Estoque</th>\n",
       "      <th>Validade</th>\n",
       "      <th>Fornecedor</th>\n",
       "      <th>Preco_Por_Unidade</th>\n",
       "      <th>Origem</th>\n",
       "      <th>Peso</th>\n",
       "      <th>Data</th>\n",
       "    </tr>\n",
       "  </thead>\n",
       "  <tbody>\n",
       "    <tr>\n",
       "      <th>0</th>\n",
       "      <td>Arroz</td>\n",
       "      <td>Alimentos</td>\n",
       "      <td>22,9</td>\n",
       "      <td>1</td>\n",
       "      <td>Tio João</td>\n",
       "      <td>50</td>\n",
       "      <td>01/12/2024</td>\n",
       "      <td>Distribuidora XYZ</td>\n",
       "      <td>2,29 (kg)</td>\n",
       "      <td>Nacional</td>\n",
       "      <td>5 kg</td>\n",
       "      <td>22/09/2024</td>\n",
       "    </tr>\n",
       "  </tbody>\n",
       "</table>\n",
       "</div>"
      ],
      "text/plain": [
       "  Produtos  Categoria Preco  ID  ... Preco_Por_Unidade    Origem  Peso        Data\n",
       "0    Arroz  Alimentos  22,9   1  ...         2,29 (kg)  Nacional  5 kg  22/09/2024\n",
       "\n",
       "[1 rows x 12 columns]"
      ]
     },
     "execution_count": 15,
     "metadata": {},
     "output_type": "execute_result"
    }
   ],
   "source": [
    "# df['Data'] = df['Data'].dt.strftime('%d/%m/%Y')\n",
    "\n",
    "df.head(1)"
   ]
  },
  {
   "cell_type": "code",
   "execution_count": 16,
   "metadata": {},
   "outputs": [
    {
     "name": "stderr",
     "output_type": "stream",
     "text": [
      "C:\\Users\\henry\\AppData\\Local\\Temp\\ipykernel_6364\\152679825.py:1: UserWarning: Parsing dates in %d/%m/%Y format when dayfirst=False (the default) was specified. Pass `dayfirst=True` or specify a format to silence this warning.\n",
      "  df['Data'] = pd.to_datetime(df['Data'])\n"
     ]
    }
   ],
   "source": [
    "df['Data'] = pd.to_datetime(df['Data'])"
   ]
  },
  {
   "cell_type": "code",
   "execution_count": 18,
   "metadata": {},
   "outputs": [],
   "source": [
    "hoje = datetime.now()\n",
    "mes_atual = datetime.now().month\n",
    "ano_atual = datetime.now().year\n",
    "\n",
    "df_filtrado = df[(df['Data'].dt.month == mes_atual) & (df['Data'].dt.year == ano_atual)]"
   ]
  },
  {
   "cell_type": "code",
   "execution_count": 25,
   "metadata": {},
   "outputs": [],
   "source": [
    "df = df_filtrado"
   ]
  },
  {
   "cell_type": "code",
   "execution_count": 26,
   "metadata": {},
   "outputs": [],
   "source": [
    "credencial = r'C:\\fora do onedrive\\Python Scripts\\google big query\\credenciais json\\python-curso-437819-ad5456cc6222.json'\n",
    "\n",
    "\n",
    "client_acao = bigquery.Client.from_service_account_json(credencial)"
   ]
  },
  {
   "cell_type": "code",
   "execution_count": 27,
   "metadata": {},
   "outputs": [],
   "source": [
    "comando_apagar = \"\"\"\n",
    "\n",
    "DELETE FROM {}\n",
    "WHERE FORMAT_TIMESTAMP('%Y', Data) = FORMAT_TIMESTAMP('%Y', CURRENT_DATE())\n",
    "and FORMAT_TIMESTAMP('%m', Data) = FORMAT_TIMESTAMP('%m', CURRENT_DATE())\n",
    "\n",
    "\"\"\""
   ]
  },
  {
   "cell_type": "code",
   "execution_count": null,
   "metadata": {},
   "outputs": [],
   "source": [
    "apagar_dados = client_acao.query(comando_apagar)"
   ]
  },
  {
   "cell_type": "code",
   "execution_count": 28,
   "metadata": {},
   "outputs": [],
   "source": [
    "credencial_exportacao = service_account.Credentials.from_service_account_file(\n",
    "    credencial,\n",
    "    scopes=['https://www.googleapis.com/auth/bigquery']\n",
    ")"
   ]
  },
  {
   "cell_type": "code",
   "execution_count": null,
   "metadata": {},
   "outputs": [],
   "source": []
  }
 ],
 "metadata": {
  "kernelspec": {
   "display_name": "Python 3",
   "language": "python",
   "name": "python3"
  },
  "language_info": {
   "codemirror_mode": {
    "name": "ipython",
    "version": 3
   },
   "file_extension": ".py",
   "mimetype": "text/x-python",
   "name": "python",
   "nbconvert_exporter": "python",
   "pygments_lexer": "ipython3",
   "version": "3.12.4"
  }
 },
 "nbformat": 4,
 "nbformat_minor": 2
}
