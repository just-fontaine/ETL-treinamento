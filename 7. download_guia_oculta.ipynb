{
 "cells": [
  {
   "cell_type": "code",
   "execution_count": 10,
   "metadata": {},
   "outputs": [],
   "source": [
    "from selenium import webdriver\n",
    "from selenium.webdriver.chrome.service import Service as ChromeService\n",
    "from selenium.webdriver.chrome.options import Options as ChromeOptions\n",
    "from selenium.webdriver.common.by import By\n",
    "from time import sleep\n",
    "\n",
    "# Caminho do ChromeDriver\n",
    "chrome_driver = r\"C:\\fora do onedrive\\chromedriver-win64\\chromedriver.exe\"\n",
    "\n",
    "# Pasta de destino para downloads\n",
    "pasta_destino = r'C:\\fora do onedrive\\Python Scripts\\Automação Web\\download automatico e tal'\n",
    "\n",
    "# Preferências do Chrome\n",
    "preferencias = {\n",
    "    'download.default_directory': pasta_destino,    # Diretório de download\n",
    "    'download.prompt_for_download': False,           # Desativa o prompt de download\n",
    "    'download.directory_upgrade': True,              # Permite sobrescrever a configuração do diretório\n",
    "}\n",
    "\n",
    "# Opções do Chrome\n",
    "options = ChromeOptions()\n",
    "options.add_experimental_option('prefs', preferencias)\n",
    "options.add_argument(\"--headless\")  # Aqui, usamos add_argument para definir o modo headless\n",
    "options.add_argument(\"--no-sandbox\")  # Para evitar problemas em ambientes restritos\n",
    "options.add_argument(\"--disable-dev-shm-usage\")  # Para evitar problemas de compartilhamento de memória\n",
    "\n",
    "# Configuração do ChromeDriver\n",
    "chrome_service = ChromeService(executable_path=chrome_driver)\n",
    "\n",
    "# Inicializa o WebDriver\n",
    "navegador = webdriver.Chrome(service=chrome_service, options=options)\n",
    "\n",
    "# Acesse o link desejado\n",
    "link = 'https://rpachallenge.com/'\n",
    "navegador.get(link)\n",
    "\n",
    "# Espera por 5 segundos para garantir que a página carregue completamente\n",
    "sleep(5)\n",
    "\n",
    "# Encontra e clica no link de download\n",
    "baixar = navegador.find_element(by=By.XPATH, value='/html/body/app-root/div[2]/app-rpa1/div/div[1]/div[6]/a').click()\n",
    "\n",
    "# Aqui você pode adicionar uma lógica para aguardar o download ser concluído, se necessário\n",
    "\n",
    "# Fecha o navegador após um tempo ou após o download\n",
    "sleep(5)  # Aguarda para garantir que o download seja concluído"
   ]
  }
 ],
 "metadata": {
  "kernelspec": {
   "display_name": "Python 3",
   "language": "python",
   "name": "python3"
  },
  "language_info": {
   "codemirror_mode": {
    "name": "ipython",
    "version": 3
   },
   "file_extension": ".py",
   "mimetype": "text/x-python",
   "name": "python",
   "nbconvert_exporter": "python",
   "pygments_lexer": "ipython3",
   "version": "3.12.4"
  }
 },
 "nbformat": 4,
 "nbformat_minor": 2
}
