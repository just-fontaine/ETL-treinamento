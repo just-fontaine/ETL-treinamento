{
 "cells": [
  {
   "cell_type": "code",
   "execution_count": 3,
   "metadata": {},
   "outputs": [],
   "source": [
    "import schedule\n",
    "import time"
   ]
  },
  {
   "cell_type": "code",
   "execution_count": null,
   "metadata": {},
   "outputs": [],
   "source": [
    "def job():\n",
    "    print(f'Ta tudo joia')"
   ]
  },
  {
   "cell_type": "code",
   "execution_count": null,
   "metadata": {},
   "outputs": [],
   "source": [
    "schedule.every().minutes.do(job)                                # EXECUTA A CADA 10 minutos\n",
    "schedule.every().hour.do(job)                                   # EXECUTA A CADA HORA\n",
    "schedule.every().day.at(\"10:30\").do(job)                        # EXECUTA DIARIAMENTE AS 10:30\n",
    "schedule.every().monday.do(job)                                 # EXECUTA TODA SEGUNDA FEIRA\n",
    "schedule.every().wednesday.at(\"13:15\").do(job)                  # EXECUTA TODA QUARTA FEIRA AS 13:15\n",
    "schedule.every().day.at(\"12:42\", \"Europe/Amsterdam\").do(job)    # EXECUTA DIARIAMENTE AS 12:42 (FUSO HORARIO EUROPE/AMSTERDAM)\n",
    "schedule.every().day.at(\"12:42\").do(job)                        # EXECUTA DIARIAMENTE AS 12:42 (FUSO HORARIO DO SEU PC)\n",
    "schedule.every().minute.at(\":17\").do(job)                       # EXECUTA A CADA MINUTO QUANDO O SEGUNDO É IGUAL A 17"
   ]
  },
  {
   "cell_type": "code",
   "execution_count": null,
   "metadata": {},
   "outputs": [],
   "source": [
    "schedule.clear()           # LIMPA AS JOBS"
   ]
  },
  {
   "cell_type": "code",
   "execution_count": null,
   "metadata": {},
   "outputs": [],
   "source": [
    "# ATALHOS PARA INTERROMPER NO TERMINAL OU CMD\n",
    "\n",
    "# CTRL + \\\n",
    "# CTRL + C"
   ]
  },
  {
   "cell_type": "markdown",
   "metadata": {},
   "source": [
    "##### EXEMPLO PRÁTICO"
   ]
  },
  {
   "cell_type": "code",
   "execution_count": 1,
   "metadata": {},
   "outputs": [
    {
     "name": "stdout",
     "output_type": "stream",
     "text": [
      "ESTOU FUNCIONANDO TESTE FINAl\n",
      "ESTOU FUNCIONANDO TESTE FINAl\n",
      "ESTOU FUNCIONANDO TESTE FINAl\n",
      "ESTOU FUNCIONANDO TESTE FINAl\n",
      "alguem apertou pra parar.\n"
     ]
    }
   ],
   "source": [
    "import schedule\n",
    "import time\n",
    "\n",
    "def job():\n",
    "    print('ESTOU FUNCIONANDO TESTE FINAl')\n",
    "\n",
    "schedule.every(2).seconds.do(job)\n",
    "\n",
    "try:\n",
    "    while True:\n",
    "        schedule.run_pending()\n",
    "        time.sleep(1)\n",
    "except KeyboardInterrupt:\n",
    "    print('alguem apertou pra parar.')\n"
   ]
  },
  {
   "cell_type": "code",
   "execution_count": 15,
   "metadata": {},
   "outputs": [],
   "source": [
    "schedule.clear()"
   ]
  },
  {
   "cell_type": "markdown",
   "metadata": {},
   "source": [
    "##### FAZENDO COM A CARGA TABELA MERCADO NO SSMS"
   ]
  },
  {
   "cell_type": "code",
   "execution_count": 16,
   "metadata": {},
   "outputs": [],
   "source": [
    "def job():\n",
    "    import pandas as pd\n",
    "    import pyodbc\n",
    "\n",
    "    server = r'DESKTOP-5KQL2U6\\MSSQLSERVER01'\n",
    "    database = 'Python'\n",
    "    conexaoDB = pyodbc.connect('DRIVER={ODBC Driver 17 for SQL Server};'\n",
    "                            f'SERVER={server};'\n",
    "                            f'DATABASE={database};'\n",
    "                            'Trusted_Connection=yes;')\n",
    "\n",
    "    cursor = conexaoDB.cursor()\n",
    "\n",
    "    df = pd.read_excel(r'C:\\fora do onedrive\\Python Scripts\\SQL\\fazendo minhas coisas\\banco de dados mercado\\banco de dados mercado.xlsx')\n",
    "    cursor.execute('truncate table [Mercado]')\n",
    "\n",
    "    for index, linha in df.iterrows():\n",
    "        cursor.execute('''INSERT INTO [Mercado] (Produtos, Categoria, Preco, ID, Marca, Estoque,\n",
    "                    Validade, Fornecedor, Preco_Por_Unidade, Origem, Peso) VALUES (?, ?, ?, ?, ?, ?, ?, ?, ?, ?, ?)''',\n",
    "                    linha.Produtos, linha.Categoria, linha.Preco, linha.ID,\n",
    "                    linha.Marca, linha.Estoque, linha.Validade,\n",
    "                    linha.Fornecedor, linha.Preco_Por_Unidade, linha.Origem,\n",
    "                    linha.Peso)\n",
    "\n",
    "\n",
    "    cursor.commit()\n",
    "    cursor.close()\n",
    "    conexaoDB.close()\n",
    "\n",
    "\n",
    "import schedule\n",
    "import time\n",
    "\n",
    "schedule.every(10).seconds.do(job)  \n",
    "\n",
    "try:\n",
    "    while True:\n",
    "        schedule.run_pending()\n",
    "        time.sleep(1)\n",
    "except KeyboardInterrupt:\n",
    "    print('alguem apertou pra parar.')\n"
   ]
  }
 ],
 "metadata": {
  "kernelspec": {
   "display_name": "Python 3",
   "language": "python",
   "name": "python3"
  },
  "language_info": {
   "codemirror_mode": {
    "name": "ipython",
    "version": 3
   },
   "file_extension": ".py",
   "mimetype": "text/x-python",
   "name": "python",
   "nbconvert_exporter": "python",
   "pygments_lexer": "ipython3",
   "version": "3.12.4"
  }
 },
 "nbformat": 4,
 "nbformat_minor": 2
}
