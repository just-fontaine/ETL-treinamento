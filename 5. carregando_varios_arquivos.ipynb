{
 "cells": [
  {
   "cell_type": "code",
   "execution_count": 1,
   "metadata": {},
   "outputs": [],
   "source": [
    "import pandas as pd\n",
    "from google.cloud import bigquery\n",
    "from google.oauth2 import service_account\n",
    "from pandas_gbq import to_gbq"
   ]
  },
  {
   "cell_type": "code",
   "execution_count": null,
   "metadata": {},
   "outputs": [],
   "source": [
    "'''\n",
    "ETL\n",
    "E = EXTRACT\n",
    "T = TRANSFORM\n",
    "L = LOAD\n",
    "'''"
   ]
  },
  {
   "cell_type": "code",
   "execution_count": 37,
   "metadata": {},
   "outputs": [],
   "source": [
    "mercado = pd.read_csv(r'C:\\fora do onedrive\\Python Scripts\\SQL\\fazendo minhas coisas\\banco de dados mercado\\banco de dados mercado.csv', delimiter=';')\n",
    "\n",
    "videogames = pd.read_csv(r'C:\\fora do onedrive\\Python Scripts\\SQL\\arquivos locais\\amazon datasets\\csv\\videogames.csv', delimiter=';')\n",
    "videogames.drop(columns='Column1', inplace=True)\n",
    "\n",
    "brinquedos = pd.read_csv(r'C:\\fora do onedrive\\Python Scripts\\SQL\\arquivos locais\\amazon datasets\\csv\\toys.csv', delimiter='|')\n",
    "brinquedos.drop(columns='Unnamed: 0', inplace=True)"
   ]
  },
  {
   "cell_type": "code",
   "execution_count": 38,
   "metadata": {},
   "outputs": [],
   "source": [
    "# CREDENCIAL LOAD    utiliza from_service_account_file()\n",
    "credencial = service_account.Credentials.from_service_account_file(\n",
    "    r'C:\\fora do onedrive\\Python Scripts\\google big query\\credenciais json\\python-curso-437819-ad5456cc6222.json',\n",
    "    scopes=['https://www.googleapis.com/auth/bigquery'])"
   ]
  },
  {
   "cell_type": "code",
   "execution_count": 46,
   "metadata": {},
   "outputs": [
    {
     "name": "stderr",
     "output_type": "stream",
     "text": [
      "C:\\Users\\henry\\AppData\\Local\\Temp\\ipykernel_14080\\4280921279.py:1: FutureWarning: to_gbq is deprecated and will be removed in a future version. Please use pandas_gbq.to_gbq instead: https://pandas-gbq.readthedocs.io/en/latest/api.html#pandas_gbq.to_gbq\n",
      "  brinquedos.to_gbq(destination_table='python-curso-437819.conjunto2.Brinquedos',\n"
     ]
    }
   ],
   "source": [
    "brinquedos.to_gbq(destination_table='python-curso-437819.conjunto2.Brinquedos',\n",
    "          project_id='python-curso-437819',\n",
    "          if_exists='replace',\n",
    "          credentials=credencial)\n",
    "\n",
    "# NOVO JEITO DE FAZER:   pandas_gbq.to_gbq()"
   ]
  }
 ],
 "metadata": {
  "kernelspec": {
   "display_name": "Python 3",
   "language": "python",
   "name": "python3"
  },
  "language_info": {
   "codemirror_mode": {
    "name": "ipython",
    "version": 3
   },
   "file_extension": ".py",
   "mimetype": "text/x-python",
   "name": "python",
   "nbconvert_exporter": "python",
   "pygments_lexer": "ipython3",
   "version": "3.12.4"
  }
 },
 "nbformat": 4,
 "nbformat_minor": 2
}
