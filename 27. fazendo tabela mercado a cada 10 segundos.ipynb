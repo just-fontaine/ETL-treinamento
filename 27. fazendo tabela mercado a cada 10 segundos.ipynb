{
 "cells": [
  {
   "cell_type": "code",
   "execution_count": null,
   "metadata": {},
   "outputs": [],
   "source": [
    "def job():\n",
    "    import pandas as pd\n",
    "    import pyodbc\n",
    "\n",
    "    server = r'DESKTOP-5KQL2U6\\MSSQLSERVER01'\n",
    "    database = 'Python'\n",
    "    conexaoDB = pyodbc.connect('DRIVER={ODBC Driver 17 for SQL Server};'\n",
    "                            f'SERVER={server};'\n",
    "                            f'DATABASE={database};'\n",
    "                            'Trusted_Connection=yes;')\n",
    "\n",
    "    cursor = conexaoDB.cursor()\n",
    "\n",
    "    df = pd.read_excel(r'C:\\fora do onedrive\\Python Scripts\\SQL\\fazendo minhas coisas\\banco de dados mercado\\banco de dados mercado.xlsx')\n",
    "    cursor.execute('truncate table [Mercado]')\n",
    "\n",
    "    for index, linha in df.iterrows():\n",
    "        cursor.execute('''INSERT INTO [Mercado] (Produtos, Categoria, Preco, ID, Marca, Estoque,\n",
    "                    Validade, Fornecedor, Preco_Por_Unidade, Origem, Peso) VALUES (?, ?, ?, ?, ?, ?, ?, ?, ?, ?, ?)''',\n",
    "                    linha.Produtos, linha.Categoria, linha.Preco, linha.ID,\n",
    "                    linha.Marca, linha.Estoque, linha.Validade,\n",
    "                    linha.Fornecedor, linha.Preco_Por_Unidade, linha.Origem,\n",
    "                    linha.Peso)\n",
    "\n",
    "\n",
    "    cursor.commit()\n",
    "    cursor.close()\n",
    "    conexaoDB.close()\n",
    "\n",
    "\n",
    "import schedule\n",
    "import time\n",
    "\n",
    "schedule.every(10).seconds.do(job)  \n",
    "\n",
    "try:\n",
    "    while True:\n",
    "        schedule.run_pending()\n",
    "        time.sleep(1)\n",
    "except KeyboardInterrupt:\n",
    "    print('alguem apertou pra parar.')\n"
   ]
  }
 ],
 "metadata": {
  "kernelspec": {
   "display_name": "Python 3",
   "language": "python",
   "name": "python3"
  },
  "language_info": {
   "name": "python",
   "version": "3.12.4"
  }
 },
 "nbformat": 4,
 "nbformat_minor": 2
}
