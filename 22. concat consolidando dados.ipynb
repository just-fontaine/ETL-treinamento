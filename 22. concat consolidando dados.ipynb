{
 "cells": [
  {
   "cell_type": "code",
   "execution_count": 2,
   "metadata": {},
   "outputs": [],
   "source": [
    "import pandas as pd\n",
    "import os"
   ]
  },
  {
   "cell_type": "code",
   "execution_count": 3,
   "metadata": {},
   "outputs": [],
   "source": [
    "mercado = pd.read_excel(r'C:\\fora do onedrive\\Python Scripts\\SQL\\fazendo minhas coisas\\banco de dados mercado\\banco de dados mercado.xlsx')\n",
    "vendas_2020 = pd.read_excel(r'C:\\fora do onedrive\\Python Scripts\\SQL\\fazendo minhas coisas\\banco de dados mercado\\consolidar\\mercado2020.xlsx')\n",
    "vendas_2021 = pd.read_excel(r'C:\\fora do onedrive\\Python Scripts\\SQL\\fazendo minhas coisas\\banco de dados mercado\\consolidar\\mercado2021.xlsx')\n",
    "vendas_2022 = pd.read_excel(r'C:\\fora do onedrive\\Python Scripts\\SQL\\fazendo minhas coisas\\banco de dados mercado\\consolidar\\mercado2022.xlsx')"
   ]
  },
  {
   "cell_type": "markdown",
   "metadata": {},
   "source": [
    "#### TIPOS DE CONCATENAÇÃO"
   ]
  },
  {
   "cell_type": "code",
   "execution_count": 35,
   "metadata": {},
   "outputs": [],
   "source": [
    "# consolidado = pd.concat([vendas_2020, vendas_2021, vendas_2022])  # COM INDICE\n",
    "\n",
    "# consolidado = pd.concat([vendas_2020, vendas_2021, vendas_2022], ignore_index=True)  # SEM INDICE\n",
    "\n",
    "consolidado = pd.concat([vendas_2020, vendas_2021, vendas_2022], keys=['2020', '2021', '2022']) # IDENTIFICANDO CADA PARTE"
   ]
  },
  {
   "cell_type": "code",
   "execution_count": 37,
   "metadata": {},
   "outputs": [],
   "source": [
    "# consolidado"
   ]
  },
  {
   "cell_type": "code",
   "execution_count": 4,
   "metadata": {},
   "outputs": [
    {
     "ename": "NameError",
     "evalue": "name 'consolidado' is not defined",
     "output_type": "error",
     "traceback": [
      "\u001b[1;31m---------------------------------------------------------------------------\u001b[0m",
      "\u001b[1;31mNameError\u001b[0m                                 Traceback (most recent call last)",
      "Cell \u001b[1;32mIn[4], line 15\u001b[0m\n\u001b[0;32m     10\u001b[0m     df_existente \u001b[38;5;241m=\u001b[39m pd\u001b[38;5;241m.\u001b[39mread_excel(caminho_completo)\n\u001b[0;32m     11\u001b[0m     dados\u001b[38;5;241m.\u001b[39mappend(df_existente)\n\u001b[1;32m---> 15\u001b[0m \u001b[43mconsolidado\u001b[49m\u001b[38;5;241m.\u001b[39mto_excel(caminho_completo, index\u001b[38;5;241m=\u001b[39m\u001b[38;5;28;01mFalse\u001b[39;00m)\n",
      "\u001b[1;31mNameError\u001b[0m: name 'consolidado' is not defined"
     ]
    }
   ],
   "source": [
    "pasta_destino = r'C:\\fora do onedrive\\Python Scripts\\SQL\\fazendo minhas coisas\\banco de dados mercado\\consolidar\\concat'\n",
    "\n",
    "nome_arquivo = 'VendasConcat.xlsx'\n",
    "\n",
    "dados = []\n",
    "\n",
    "caminho_completo = pasta_destino + nome_arquivo\n",
    "\n",
    "if os.path.exists(caminho_completo):\n",
    "    df_existente = pd.read_excel(caminho_completo)\n",
    "    dados.append(df_existente)\n",
    "\n",
    "\n",
    "\n",
    "consolidado.to_excel(caminho_completo, index=False)"
   ]
  }
 ],
 "metadata": {
  "kernelspec": {
   "display_name": "Python 3",
   "language": "python",
   "name": "python3"
  },
  "language_info": {
   "codemirror_mode": {
    "name": "ipython",
    "version": 3
   },
   "file_extension": ".py",
   "mimetype": "text/x-python",
   "name": "python",
   "nbconvert_exporter": "python",
   "pygments_lexer": "ipython3",
   "version": "3.12.4"
  }
 },
 "nbformat": 4,
 "nbformat_minor": 2
}
