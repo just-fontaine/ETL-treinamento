{
 "cells": [
  {
   "cell_type": "code",
   "execution_count": 4,
   "metadata": {},
   "outputs": [],
   "source": [
    "import pandas as pd\n",
    "import pyodbc"
   ]
  },
  {
   "cell_type": "code",
   "execution_count": 5,
   "metadata": {},
   "outputs": [],
   "source": [
    "# PRIMEIRA CONEXAO COM SSMS\n",
    "\n",
    "server = r'DESKTOP-5KQL2U6\\MSSQLSERVER01'\n",
    "database = 'Python'\n",
    "conexaoDB = pyodbc.connect('DRIVER={ODBC Driver 17 for SQL Server};'\n",
    "                           f'SERVER={server};'\n",
    "                           f'DATABASE={database};'\n",
    "                           'Trusted_Connection=yes;')\n",
    "\n",
    "cursor = conexaoDB.cursor()"
   ]
  },
  {
   "cell_type": "markdown",
   "metadata": {},
   "source": [
    "#### LENDO OS DADOS"
   ]
  },
  {
   "cell_type": "code",
   "execution_count": 6,
   "metadata": {},
   "outputs": [
    {
     "data": {
      "text/html": [
       "<div>\n",
       "<style scoped>\n",
       "    .dataframe tbody tr th:only-of-type {\n",
       "        vertical-align: middle;\n",
       "    }\n",
       "\n",
       "    .dataframe tbody tr th {\n",
       "        vertical-align: top;\n",
       "    }\n",
       "\n",
       "    .dataframe thead th {\n",
       "        text-align: right;\n",
       "    }\n",
       "</style>\n",
       "<table border=\"1\" class=\"dataframe\">\n",
       "  <thead>\n",
       "    <tr style=\"text-align: right;\">\n",
       "      <th></th>\n",
       "      <th>Produtos</th>\n",
       "      <th>Categoria</th>\n",
       "      <th>Preco</th>\n",
       "      <th>ID</th>\n",
       "      <th>Marca</th>\n",
       "      <th>Estoque</th>\n",
       "      <th>Validade</th>\n",
       "      <th>Fornecedor</th>\n",
       "      <th>Preco_Por_Unidade</th>\n",
       "      <th>Origem</th>\n",
       "      <th>Peso</th>\n",
       "    </tr>\n",
       "  </thead>\n",
       "  <tbody>\n",
       "    <tr>\n",
       "      <th>0</th>\n",
       "      <td>Arroz</td>\n",
       "      <td>Alimentos</td>\n",
       "      <td>22.9</td>\n",
       "      <td>1</td>\n",
       "      <td>Tio João</td>\n",
       "      <td>50</td>\n",
       "      <td>2024-12-01</td>\n",
       "      <td>Distribuidora XYZ</td>\n",
       "      <td>2,29 (kg)</td>\n",
       "      <td>Nacional</td>\n",
       "      <td>5 kg</td>\n",
       "    </tr>\n",
       "    <tr>\n",
       "      <th>1</th>\n",
       "      <td>Feijão</td>\n",
       "      <td>Alimentos</td>\n",
       "      <td>8.5</td>\n",
       "      <td>2</td>\n",
       "      <td>Camil</td>\n",
       "      <td>40</td>\n",
       "      <td>2024-11-15</td>\n",
       "      <td>Atacado Central</td>\n",
       "      <td>4,25 (kg)</td>\n",
       "      <td>Nacional</td>\n",
       "      <td>1 kg</td>\n",
       "    </tr>\n",
       "    <tr>\n",
       "      <th>2</th>\n",
       "      <td>Açúcar</td>\n",
       "      <td>Alimentos</td>\n",
       "      <td>4.3</td>\n",
       "      <td>3</td>\n",
       "      <td>União</td>\n",
       "      <td>60</td>\n",
       "      <td>2025-03-10</td>\n",
       "      <td>Distribuidora ABC</td>\n",
       "      <td>4,30 (kg)</td>\n",
       "      <td>Nacional</td>\n",
       "      <td>1 kg</td>\n",
       "    </tr>\n",
       "  </tbody>\n",
       "</table>\n",
       "</div>"
      ],
      "text/plain": [
       "  Produtos  Categoria  Preco  ID     Marca  Estoque   Validade  \\\n",
       "0    Arroz  Alimentos   22.9   1  Tio João       50 2024-12-01   \n",
       "1   Feijão  Alimentos    8.5   2     Camil       40 2024-11-15   \n",
       "2   Açúcar  Alimentos    4.3   3     União       60 2025-03-10   \n",
       "\n",
       "          Fornecedor Preco_Por_Unidade    Origem  Peso  \n",
       "0  Distribuidora XYZ         2,29 (kg)  Nacional  5 kg  \n",
       "1    Atacado Central         4,25 (kg)  Nacional  1 kg  \n",
       "2  Distribuidora ABC         4,30 (kg)  Nacional  1 kg  "
      ]
     },
     "execution_count": 6,
     "metadata": {},
     "output_type": "execute_result"
    }
   ],
   "source": [
    "df = pd.read_excel(r'C:\\fora do onedrive\\Python Scripts\\SQL\\fazendo minhas coisas\\banco de dados mercado\\banco de dados mercado.xlsx')\n",
    "df.head(3)"
   ]
  },
  {
   "cell_type": "code",
   "execution_count": 7,
   "metadata": {},
   "outputs": [
    {
     "data": {
      "text/plain": [
       "<pyodbc.Cursor at 0x17f13e08e30>"
      ]
     },
     "execution_count": 7,
     "metadata": {},
     "output_type": "execute_result"
    }
   ],
   "source": [
    "cursor.execute('truncate table [Mercado]') #exclui o original para não sobrepor"
   ]
  },
  {
   "cell_type": "markdown",
   "metadata": {},
   "source": [
    "#### CRIANDO A TABELA COMPLETA"
   ]
  },
  {
   "cell_type": "code",
   "execution_count": 8,
   "metadata": {},
   "outputs": [],
   "source": [
    "for index, linha in df.iterrows():\n",
    "    cursor.execute('''INSERT INTO [Mercado] (Produtos, Categoria, Preco, ID, Marca, Estoque,\n",
    "                   Validade, Fornecedor, Preco_Por_Unidade, Origem, Peso) VALUES (?, ?, ?, ?, ?, ?, ?, ?, ?, ?, ?)''',\n",
    "                   linha.Produtos, linha.Categoria, linha.Preco, linha.ID,\n",
    "                   linha.Marca, linha.Estoque, linha.Validade,\n",
    "                   linha.Fornecedor, linha.Preco_Por_Unidade, linha.Origem,\n",
    "                   linha.Peso)\n",
    "\n",
    "\n",
    "cursor.commit()\n",
    "cursor.close()\n",
    "conexaoDB.close()"
   ]
  },
  {
   "cell_type": "markdown",
   "metadata": {},
   "source": [
    "#### CODIGO PARA CRIAR A TABELA COMPLETA"
   ]
  },
  {
   "cell_type": "code",
   "execution_count": 9,
   "metadata": {},
   "outputs": [
    {
     "data": {
      "text/plain": [
       "'\\n\\nCREATE TABLE Mercado(\\n    [Produtos] nvarchar(255),\\n\\t[Categoria] nvarchar(255),\\n\\t[Preco] float,\\n\\t[ID] int,\\n\\t[Marca] nvarchar(255),\\n\\t[Estoque] int,\\n\\t[Fornecedor] nvarchar(255),\\n\\t[Preco_Por_Unidade] nvarchar(255),\\n\\t[Origem] nvarchar(255),\\n\\t[Peso] nvarchar(255),\\n\\t[Validade] date\\n);\\n\\n'"
      ]
     },
     "execution_count": 9,
     "metadata": {},
     "output_type": "execute_result"
    }
   ],
   "source": [
    "'''\n",
    "\n",
    "CREATE TABLE Mercado(\n",
    "    [Produtos] nvarchar(255),\n",
    "\t[Categoria] nvarchar(255),\n",
    "\t[Preco] float,\n",
    "\t[ID] int,\n",
    "\t[Marca] nvarchar(255),\n",
    "\t[Estoque] int,\n",
    "\t[Fornecedor] nvarchar(255),\n",
    "\t[Preco_Por_Unidade] nvarchar(255),\n",
    "\t[Origem] nvarchar(255),\n",
    "\t[Peso] nvarchar(255),\n",
    "\t[Validade] date\n",
    ");\n",
    "\n",
    "'''"
   ]
  }
 ],
 "metadata": {
  "kernelspec": {
   "display_name": "Python 3",
   "language": "python",
   "name": "python3"
  },
  "language_info": {
   "codemirror_mode": {
    "name": "ipython",
    "version": 3
   },
   "file_extension": ".py",
   "mimetype": "text/x-python",
   "name": "python",
   "nbconvert_exporter": "python",
   "pygments_lexer": "ipython3",
   "version": "3.12.4"
  }
 },
 "nbformat": 4,
 "nbformat_minor": 2
}
