{
 "cells": [
  {
   "cell_type": "markdown",
   "metadata": {},
   "source": [
    "#### importação do webdriver resumo"
   ]
  },
  {
   "cell_type": "code",
   "execution_count": 10,
   "metadata": {},
   "outputs": [],
   "source": [
    "from selenium import webdriver\n",
    "from selenium.webdriver.chrome.service import Service\n",
    "from time import sleep\n",
    "from selenium.webdriver.common.by import By\n",
    "from selenium.webdriver.common.keys import Keys\n",
    "\n",
    "\n",
    "caminhoWD = r\"C:\\fora do onedrive\\chromedriver-win64\\chromedriver.exe\"\n",
    "service = Service(executable_path=caminhoWD)"
   ]
  },
  {
   "cell_type": "code",
   "execution_count": 11,
   "metadata": {},
   "outputs": [],
   "source": [
    "navegador = webdriver.Chrome(service=service)\n",
    "navegador.maximize_window()"
   ]
  },
  {
   "cell_type": "code",
   "execution_count": 12,
   "metadata": {},
   "outputs": [],
   "source": [
    "link = 'https://rpachallenge.com'\n",
    "navegador.get(link)"
   ]
  },
  {
   "cell_type": "markdown",
   "metadata": {},
   "source": [
    "### NOTA: Todos os IDs, XPATHs, etc mudam. O código só irá funcionar uma vez."
   ]
  },
  {
   "cell_type": "code",
   "execution_count": null,
   "metadata": {},
   "outputs": [],
   "source": [
    "'''\n",
    "Phone Number: name = \"labelAddress\"\n",
    "              id = \"xkdld\"\n",
    "              xpath = \"//*[@id=\"xkdld\"]\"\n",
    "              fullXpath = \"/html/body/app-root/div[2]/app-rpa1/div/div[2]/form/div/div[1]/rpa1-field/div/input\"\n",
    "'''"
   ]
  },
  {
   "cell_type": "code",
   "execution_count": null,
   "metadata": {},
   "outputs": [],
   "source": [
    "endereco = navegador.find_element(by=By.ID, value='xkdld')\n",
    "\n",
    "# Apagar o que tiver escrito\n",
    "endereco.clear()\n",
    "\n",
    "# Escrever o texto\n",
    "endereco.send_keys('São Paulo, São Paulo')"
   ]
  },
  {
   "cell_type": "code",
   "execution_count": 19,
   "metadata": {},
   "outputs": [],
   "source": [
    "primeiro_nome = navegador.find_element(by=By.ID, value='cYGAT')\n",
    "primeiro_nome.send_keys('Henry')"
   ]
  },
  {
   "cell_type": "code",
   "execution_count": 20,
   "metadata": {},
   "outputs": [],
   "source": [
    "botao_submit = navegador.find_element(by=By.XPATH, value='/html/body/app-root/div[2]/app-rpa1/div/div[2]/form/input')\n",
    "botao_submit.click()"
   ]
  }
 ],
 "metadata": {
  "kernelspec": {
   "display_name": "Python 3",
   "language": "python",
   "name": "python3"
  },
  "language_info": {
   "codemirror_mode": {
    "name": "ipython",
    "version": 3
   },
   "file_extension": ".py",
   "mimetype": "text/x-python",
   "name": "python",
   "nbconvert_exporter": "python",
   "pygments_lexer": "ipython3",
   "version": "3.12.4"
  }
 },
 "nbformat": 4,
 "nbformat_minor": 2
}
