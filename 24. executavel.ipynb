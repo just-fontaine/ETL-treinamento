{
 "cells": [
  {
   "cell_type": "markdown",
   "metadata": {},
   "source": [
    "pip install pyinstaller                   # caso não tenha instalado\n",
    "pip install --upgrade pyinstaller         # atualizar a biblioteca\n",
    "\n",
    "pip install --trusted host pypl.org  --trusted host files.pythonhosted.org pyinstaller -- se der\n",
    "erro ssl\n",
    "\n",
    "modo oculto do windows (noconsole) adicionar isso antes do nome do arquivo\n",
    "\n",
    "pyinstaller --onefile --noconsole \"C:\\Users\\henry\\OneDrive\\Documentos\\Python Scripts\\arquivos py\\1. criar tabela mercado.py\"\n",
    "\n",
    "\n",
    "\n",
    "\n",
    "\n",
    "\n",
    "inserir via interface grafica\n",
    "pip install auto-py-to-exe\n",
    "auto py to exe        - digitar no prompt de comando"
   ]
  },
  {
   "cell_type": "code",
   "execution_count": null,
   "metadata": {},
   "outputs": [],
   "source": [
    "'''\n",
    "\n",
    "pip install pyinstaller                   # caso não tenha instalado\n",
    "pip install --upgrade pyinstaller         # atualizar a biblioteca\n",
    "\n",
    "pip install --trusted host pypl.org  --trusted host files.pythonhosted.org pyinstaller -- se der\n",
    "erro ssl\n",
    "\n",
    "modo oculto do windows (noconsole) adicionar isso antes do nome do arquivo\n",
    "\n",
    "pyinstaller --onefile --noconsole \"C:\\fora do onedrive\\Python Scripts\\arquivos py\\1. criar tabela mercado.py\"\n",
    "\n",
    "\n",
    "\n",
    "\n",
    "\n",
    "\n",
    "inserir via interface grafica\n",
    "auto-py-to-exe      - digitar no prompt de comando\n",
    "\n",
    "'''"
   ]
  }
 ],
 "metadata": {
  "kernelspec": {
   "display_name": "Python 3",
   "language": "python",
   "name": "python3"
  },
  "language_info": {
   "codemirror_mode": {
    "name": "ipython",
    "version": 3
   },
   "file_extension": ".py",
   "mimetype": "text/x-python",
   "name": "python",
   "nbconvert_exporter": "python",
   "pygments_lexer": "ipython3",
   "version": "3.12.4"
  }
 },
 "nbformat": 4,
 "nbformat_minor": 2
}
