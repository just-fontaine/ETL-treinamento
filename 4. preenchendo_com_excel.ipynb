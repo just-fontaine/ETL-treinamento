{
 "cells": [
  {
   "cell_type": "code",
   "execution_count": 23,
   "metadata": {},
   "outputs": [
    {
     "data": {
      "text/plain": [
       "'\\nimport pandas as pd\\n\\n# Exemplo de DataFrame\\ndata = {\\n    \\'coluna1\\': [1, 2, None, 4],\\n    \\'coluna2\\': [\\'a\\', None, \\'c\\', \\'d\\']\\n}\\ndf = pd.DataFrame(data)\\n\\n# Substituindo valores NaN por \"sem dados\"\\ndf.fillna(\"sem dados\", inplace=True)\\n\\n# Exibindo o DataFrame modificado\\nprint(df)\\n\\n'"
      ]
     },
     "execution_count": 23,
     "metadata": {},
     "output_type": "execute_result"
    }
   ],
   "source": [
    "# USAR O COMANDO .fillna() para substituir valores nulos se tiver\n",
    "'''\n",
    "import pandas as pd\n",
    "\n",
    "# Exemplo de DataFrame\n",
    "data = {\n",
    "    'coluna1': [1, 2, None, 4],\n",
    "    'coluna2': ['a', None, 'c', 'd']\n",
    "}\n",
    "df = pd.DataFrame(data)\n",
    "\n",
    "# Substituindo valores NaN por \"sem dados\"\n",
    "df.fillna(\"sem dados\", inplace=True)\n",
    "\n",
    "# Exibindo o DataFrame modificado\n",
    "print(df)\n",
    "\n",
    "'''"
   ]
  },
  {
   "cell_type": "code",
   "execution_count": 17,
   "metadata": {},
   "outputs": [
    {
     "data": {
      "text/plain": [
       "'\\nlink: https://forms.gle/WGmHHo6GrsMPwRNE6\\n'"
      ]
     },
     "execution_count": 17,
     "metadata": {},
     "output_type": "execute_result"
    }
   ],
   "source": [
    "'''\n",
    "link: https://forms.gle/WGmHHo6GrsMPwRNE6\n",
    "'''"
   ]
  },
  {
   "cell_type": "markdown",
   "metadata": {},
   "source": [
    "#### IMPORTANDO TODAS AS BIBLIOTECAS"
   ]
  },
  {
   "cell_type": "code",
   "execution_count": 18,
   "metadata": {},
   "outputs": [],
   "source": [
    "from selenium import webdriver\n",
    "from selenium.webdriver.chrome.service import Service\n",
    "from time import sleep\n",
    "from selenium.webdriver.common.keys import Keys\n",
    "from selenium.webdriver.common.by import By\n",
    "import pandas as pd"
   ]
  },
  {
   "cell_type": "markdown",
   "metadata": {},
   "source": [
    "##### CONEXAO COM O CHROME DRIVER PARA USAR O CHROME"
   ]
  },
  {
   "cell_type": "code",
   "execution_count": 19,
   "metadata": {},
   "outputs": [],
   "source": [
    "caminhoWD = r\"C:\\fora do onedrive\\chromedriver-win64\\chromedriver.exe\"\n",
    "service = Service(executable_path=caminhoWD)\n",
    "navegador = webdriver.Chrome(service=service)"
   ]
  },
  {
   "cell_type": "code",
   "execution_count": 20,
   "metadata": {},
   "outputs": [],
   "source": [
    "link = 'https://forms.gle/WGmHHo6GrsMPwRNE6'\n",
    "navegador.get(link)\n",
    "navegador.maximize_window()"
   ]
  },
  {
   "cell_type": "markdown",
   "metadata": {},
   "source": [
    "##### IMPORTAÇÃO DOS DADOS"
   ]
  },
  {
   "cell_type": "code",
   "execution_count": 21,
   "metadata": {},
   "outputs": [
    {
     "data": {
      "text/html": [
       "<div>\n",
       "<style scoped>\n",
       "    .dataframe tbody tr th:only-of-type {\n",
       "        vertical-align: middle;\n",
       "    }\n",
       "\n",
       "    .dataframe tbody tr th {\n",
       "        vertical-align: top;\n",
       "    }\n",
       "\n",
       "    .dataframe thead th {\n",
       "        text-align: right;\n",
       "    }\n",
       "</style>\n",
       "<table border=\"1\" class=\"dataframe\">\n",
       "  <thead>\n",
       "    <tr style=\"text-align: right;\">\n",
       "      <th></th>\n",
       "      <th>Nome</th>\n",
       "      <th>Sobrenome</th>\n",
       "      <th>Email</th>\n",
       "      <th>Estado</th>\n",
       "      <th>Rua</th>\n",
       "      <th>Número</th>\n",
       "      <th>Adicional</th>\n",
       "    </tr>\n",
       "  </thead>\n",
       "  <tbody>\n",
       "    <tr>\n",
       "      <th>0</th>\n",
       "      <td>Fulano</td>\n",
       "      <td>Alves</td>\n",
       "      <td>fulano.alves@email.com</td>\n",
       "      <td>Santa Brisa</td>\n",
       "      <td>Rua das Flores</td>\n",
       "      <td>98765-4321</td>\n",
       "      <td>Conjunto 1</td>\n",
       "    </tr>\n",
       "    <tr>\n",
       "      <th>1</th>\n",
       "      <td>Joana</td>\n",
       "      <td>Pereira</td>\n",
       "      <td>joana.pereira@email.com</td>\n",
       "      <td>Novo Horizonte</td>\n",
       "      <td>Avenida Sol Nascente</td>\n",
       "      <td>12345-6789</td>\n",
       "      <td>Apto 302</td>\n",
       "    </tr>\n",
       "    <tr>\n",
       "      <th>2</th>\n",
       "      <td>Carlos</td>\n",
       "      <td>Martins</td>\n",
       "      <td>carlos.martins@email.com</td>\n",
       "      <td>Vale Encantado</td>\n",
       "      <td>Rua dos Ipês</td>\n",
       "      <td>23456-7890</td>\n",
       "      <td>Bloco B, Apto 12</td>\n",
       "    </tr>\n",
       "    <tr>\n",
       "      <th>3</th>\n",
       "      <td>Luciana</td>\n",
       "      <td>Souza</td>\n",
       "      <td>luciana.souza@email.com</td>\n",
       "      <td>Serra Alta</td>\n",
       "      <td>Travessa do Horizonte</td>\n",
       "      <td>34567-8901</td>\n",
       "      <td>Conjunto 5</td>\n",
       "    </tr>\n",
       "    <tr>\n",
       "      <th>4</th>\n",
       "      <td>Pedro</td>\n",
       "      <td>Lima</td>\n",
       "      <td>pedro.lima@email.com</td>\n",
       "      <td>Pontal Azul</td>\n",
       "      <td>Rua Pérola Azul</td>\n",
       "      <td>45678-9012</td>\n",
       "      <td>Apto 101</td>\n",
       "    </tr>\n",
       "  </tbody>\n",
       "</table>\n",
       "</div>"
      ],
      "text/plain": [
       "      Nome Sobrenome                     Email          Estado  \\\n",
       "0   Fulano     Alves    fulano.alves@email.com     Santa Brisa   \n",
       "1    Joana   Pereira   joana.pereira@email.com  Novo Horizonte   \n",
       "2   Carlos   Martins  carlos.martins@email.com  Vale Encantado   \n",
       "3  Luciana     Souza   luciana.souza@email.com      Serra Alta   \n",
       "4    Pedro      Lima      pedro.lima@email.com     Pontal Azul   \n",
       "\n",
       "                     Rua      Número         Adicional  \n",
       "0         Rua das Flores  98765-4321        Conjunto 1  \n",
       "1   Avenida Sol Nascente  12345-6789          Apto 302  \n",
       "2           Rua dos Ipês  23456-7890  Bloco B, Apto 12  \n",
       "3  Travessa do Horizonte  34567-8901        Conjunto 5  \n",
       "4        Rua Pérola Azul  45678-9012          Apto 101  "
      ]
     },
     "execution_count": 21,
     "metadata": {},
     "output_type": "execute_result"
    }
   ],
   "source": [
    "df = pd.read_excel(r'C:\\fora do onedrive\\Python Scripts\\Automação Web\\arquivos para automação\\planilha_automação.xlsx')\n",
    "df.head()"
   ]
  },
  {
   "cell_type": "markdown",
   "metadata": {},
   "source": [
    "##### LOCALIZA CADA INFORMAÇÃO DE CADA LINHA E PREENCHE NA PAGINA"
   ]
  },
  {
   "cell_type": "code",
   "execution_count": 22,
   "metadata": {},
   "outputs": [],
   "source": [
    "for index, row in df.iterrows():\n",
    "    nome_origem = row['Nome']\n",
    "    sobrenome_origem = row['Sobrenome']\n",
    "    email_origem = row['Email']\n",
    "    estado_origem = row['Estado']\n",
    "    rua_origem = row['Rua']\n",
    "    numero_origem = row['Número']\n",
    "    adicional_origem = row['Adicional']\n",
    "    sleep(3)\n",
    "    # PREENCHIMENTO AUTOMATICO\n",
    "    nome = navegador.find_element(by=By.XPATH, value='//*[@id=\"mG61Hd\"]/div[2]/div/div[2]/div[1]/div/div/div[2]/div/div[1]/div/div[1]/input').send_keys(str(nome_origem))\n",
    "    sobrenome = navegador.find_element(by=By.XPATH, value='//*[@id=\"mG61Hd\"]/div[2]/div/div[2]/div[2]/div/div/div[2]/div/div[1]/div/div[1]/input').send_keys(str(sobrenome_origem))\n",
    "    email = navegador.find_element(by=By.XPATH, value='//*[@id=\"mG61Hd\"]/div[2]/div/div[2]/div[3]/div/div/div[2]/div/div[1]/div/div[1]/input').send_keys(str(email_origem))\n",
    "    estado = navegador.find_element(by=By.XPATH, value='//*[@id=\"mG61Hd\"]/div[2]/div/div[2]/div[4]/div/div/div[2]/div/div[1]/div/div[1]/input').send_keys(str(estado_origem))\n",
    "    rua = navegador.find_element(by=By.XPATH, value='//*[@id=\"mG61Hd\"]/div[2]/div/div[2]/div[5]/div/div/div[2]/div/div[1]/div/div[1]/input').send_keys(str(rua_origem))\n",
    "    numero = navegador.find_element(by=By.XPATH, value='//*[@id=\"mG61Hd\"]/div[2]/div/div[2]/div[6]/div/div/div[2]/div/div[1]/div/div[1]/input').send_keys(str(numero_origem))\n",
    "    adicional = navegador.find_element(by=By.XPATH, value='//*[@id=\"mG61Hd\"]/div[2]/div/div[2]/div[7]/div/div/div[2]/div/div[1]/div/div[1]/input').send_keys(str(adicional_origem))\n",
    "    enviar = navegador.find_element(by=By.XPATH, value='//*[@id=\"mG61Hd\"]/div[2]/div/div[3]/div[1]/div[1]/div/span')\n",
    "    sleep(1)\n",
    "    enviar.click()\n",
    "    sleep(3)\n",
    "    navegador.get(link)\n",
    "navegador.quit()"
   ]
  }
 ],
 "metadata": {
  "kernelspec": {
   "display_name": "Python 3",
   "language": "python",
   "name": "python3"
  },
  "language_info": {
   "codemirror_mode": {
    "name": "ipython",
    "version": 3
   },
   "file_extension": ".py",
   "mimetype": "text/x-python",
   "name": "python",
   "nbconvert_exporter": "python",
   "pygments_lexer": "ipython3",
   "version": "3.12.4"
  }
 },
 "nbformat": 4,
 "nbformat_minor": 2
}
