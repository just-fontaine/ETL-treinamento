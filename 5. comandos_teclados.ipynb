{
 "cells": [
  {
   "cell_type": "code",
   "execution_count": 1,
   "metadata": {},
   "outputs": [
    {
     "data": {
      "text/plain": [
       "'\\nhttps://forms.gle/CFgSUdCDyRCJ3gY77\\n'"
      ]
     },
     "execution_count": 1,
     "metadata": {},
     "output_type": "execute_result"
    }
   ],
   "source": [
    "#   https://forms.gle/CFgSUdCDyRCJ3gY77"
   ]
  },
  {
   "cell_type": "code",
   "execution_count": 2,
   "metadata": {},
   "outputs": [],
   "source": [
    "from selenium import webdriver\n",
    "from selenium.webdriver.chrome.service import Service\n",
    "from time import sleep\n",
    "from selenium.webdriver.common.keys import Keys\n",
    "from selenium.webdriver.common.by import By\n",
    "from selenium.webdriver.common.action_chains import ActionChains\n",
    "from datetime import datetime, timedelta"
   ]
  },
  {
   "cell_type": "code",
   "execution_count": 3,
   "metadata": {},
   "outputs": [],
   "source": [
    "caminhoWD = r\"C:\\fora do onedrive\\chromedriver-win64\\chromedriver.exe\"\n",
    "service = Service(executable_path=caminhoWD)\n",
    "navegador = webdriver.Chrome(service=service)\n",
    "link = 'https://forms.gle/CFgSUdCDyRCJ3gY77'\n",
    "navegador.get(link)"
   ]
  },
  {
   "cell_type": "code",
   "execution_count": 4,
   "metadata": {},
   "outputs": [],
   "source": [
    "navegador.maximize_window()"
   ]
  },
  {
   "cell_type": "code",
   "execution_count": 5,
   "metadata": {},
   "outputs": [],
   "source": [
    "primeiro_botao = navegador.find_element(by=By.XPATH, value='//*[@id=\"i5\"]/div[3]/div').click()\n",
    "acao = ActionChains(navegador)"
   ]
  },
  {
   "cell_type": "code",
   "execution_count": 6,
   "metadata": {},
   "outputs": [],
   "source": [
    "for opcao in range(0, 2):\n",
    "    acao.send_keys(Keys.DOWN).perform()"
   ]
  },
  {
   "cell_type": "code",
   "execution_count": 7,
   "metadata": {},
   "outputs": [],
   "source": [
    "segundo_botao = navegador.find_element(by=By.XPATH, value='//*[@id=\"i22\"]/div[2]').click()\n",
    "\n",
    "for opcao in range(0, 3):\n",
    "    acao.send_keys(Keys.TAB).perform()\n",
    "acao.send_keys(Keys.SPACE).perform()\n",
    "acao.send_keys(Keys.TAB).perform()\n",
    "acao.send_keys(Keys.SPACE).perform()\n",
    "\n",
    "escrever_segunda_parte = navegador.find_element(by=By.XPATH, value='//*[@id=\"mG61Hd\"]/div[2]/div/div[2]/div[2]/div/div/div[2]/div[1]/div[5]/div/div/div/div/div[1]/input').send_keys('Assista Breaking Bad.')"
   ]
  },
  {
   "cell_type": "code",
   "execution_count": 8,
   "metadata": {},
   "outputs": [
    {
     "data": {
      "text/plain": [
       "' data_atual_americano = datetime.now().strftime(\"%Y-%m-%d\")\\nprint(data_atual_americano) \\n\\ndata_atual_brasil = datetime.now().strftime(\"%d/%m/%Y\")\\nprint(data_atual_brasil) '"
      ]
     },
     "execution_count": 8,
     "metadata": {},
     "output_type": "execute_result"
    }
   ],
   "source": [
    "''' data_atual_americano = datetime.now().strftime(\"%Y-%m-%d\")\n",
    "print(data_atual_americano) \n",
    "\n",
    "data_atual_brasil = datetime.now().strftime(\"%d/%m/%Y\")\n",
    "print(data_atual_brasil) '''"
   ]
  },
  {
   "cell_type": "code",
   "execution_count": 9,
   "metadata": {},
   "outputs": [],
   "source": [
    "hoje = datetime.now().strftime(\"%d/%m/%Y\")\n",
    "sessenta_dias_atras = (datetime.now() - timedelta(days=60)).strftime('%d/%m/%Y')\n",
    "\n",
    "# print(sessenta_dias_atras)\n",
    "\n",
    "escrever_data_comeco = navegador.find_element(by=By.XPATH, value='//*[@id=\"mG61Hd\"]/div[2]/div/div[2]/div[3]/div/div/div[2]/div/div[1]/div/div[1]/input').send_keys(sessenta_dias_atras)\n",
    "escrever_data_final = navegador.find_element(by=By.XPATH, value='//*[@id=\"mG61Hd\"]/div[2]/div/div[2]/div[4]/div/div/div[2]/div/div[1]/div/div[1]/input').send_keys(hoje)"
   ]
  },
  {
   "cell_type": "code",
   "execution_count": 10,
   "metadata": {},
   "outputs": [],
   "source": [
    "for opcao in range(0, 3):\n",
    "    acao.send_keys(Keys.TAB).perform()\n",
    "acao.send_keys(Keys.SPACE).perform()\n",
    "for opcao in range(0, 4):\n",
    "    acao.send_keys(Keys.TAB).perform()\n",
    "acao.send_keys(Keys.SPACE).perform()\n",
    "for opcao in range(0, 3):\n",
    "    acao.send_keys(Keys.TAB).perform()\n",
    "acao.send_keys(Keys.SPACE).perform()\n",
    "for opcao in range(0, 6):\n",
    "    acao.send_keys(Keys.TAB).perform()\n",
    "acao.send_keys(Keys.SPACE).perform()"
   ]
  },
  {
   "cell_type": "code",
   "execution_count": 11,
   "metadata": {},
   "outputs": [],
   "source": [
    "sleep(0.5)\n",
    "acao.send_keys(Keys.TAB).perform()\n",
    "acao.send_keys(Keys.ENTER).perform()\n",
    "sleep(0.5)\n",
    "for opcao in range(0, 4):\n",
    "    acao.send_keys(Keys.ARROW_DOWN).perform()\n",
    "    sleep(0.2)\n",
    "acao.send_keys(Keys.ENTER).perform()\n",
    "\n",
    "sleep(0.5)\n",
    "\n",
    "acao.send_keys(Keys.TAB).perform()\n",
    "acao.send_keys(Keys.ENTER).perform()\n",
    "sleep(0.5)"
   ]
  },
  {
   "cell_type": "code",
   "execution_count": 19,
   "metadata": {},
   "outputs": [],
   "source": [
    "navegador.execute_script(\"window.open('');\") # abre uma nova aba/guia"
   ]
  },
  {
   "cell_type": "code",
   "execution_count": 25,
   "metadata": {},
   "outputs": [],
   "source": [
    "navegador.switch_to.window(navegador.window_handles[0]) # [0] indica a primeira aba/guia\n",
    "                                                        # [1] indica a segunda aba/guia\n",
    "                                                        # [-1] indica a ultima aba/guia aberta "
   ]
  }
 ],
 "metadata": {
  "kernelspec": {
   "display_name": "Python 3",
   "language": "python",
   "name": "python3"
  },
  "language_info": {
   "codemirror_mode": {
    "name": "ipython",
    "version": 3
   },
   "file_extension": ".py",
   "mimetype": "text/x-python",
   "name": "python",
   "nbconvert_exporter": "python",
   "pygments_lexer": "ipython3",
   "version": "3.12.4"
  }
 },
 "nbformat": 4,
 "nbformat_minor": 2
}
