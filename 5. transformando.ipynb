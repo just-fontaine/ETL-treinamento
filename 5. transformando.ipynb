{
 "cells": [
  {
   "cell_type": "code",
   "execution_count": 1,
   "metadata": {},
   "outputs": [],
   "source": [
    "import pandas as pd"
   ]
  },
  {
   "cell_type": "code",
   "execution_count": 2,
   "metadata": {},
   "outputs": [],
   "source": [
    "df = pd.read_csv(r\"C:\\fora do onedrive\\Python Scripts\\Arquivos\\transformando\\diabetes.csv\")"
   ]
  },
  {
   "cell_type": "code",
   "execution_count": 3,
   "metadata": {},
   "outputs": [
    {
     "name": "stdout",
     "output_type": "stream",
     "text": [
      "Coluna: Pregnancies, Tipos de dados: int64\n",
      "\n",
      "Coluna: Glucose, Tipos de dados: int64\n",
      "\n",
      "Coluna: BloodPressure, Tipos de dados: int64\n",
      "\n",
      "Coluna: SkinThickness, Tipos de dados: int64\n",
      "\n",
      "Coluna: Insulin, Tipos de dados: int64\n",
      "\n",
      "Coluna: BMI, Tipos de dados: float64\n",
      "\n",
      "Coluna: DiabetesPedigreeFunction, Tipos de dados: float64\n",
      "\n",
      "Coluna: Age, Tipos de dados: int64\n",
      "\n",
      "Coluna: Outcome, Tipos de dados: int64\n",
      "\n"
     ]
    }
   ],
   "source": [
    "for coluna in df.columns:\n",
    "    print(f'Coluna: {coluna}, Tipos de dados: {df[coluna].dtypes}\\n')"
   ]
  },
  {
   "cell_type": "code",
   "execution_count": 4,
   "metadata": {},
   "outputs": [],
   "source": [
    "df['Pregnancies'] = df['Pregnancies'].astype(float)"
   ]
  },
  {
   "cell_type": "code",
   "execution_count": 5,
   "metadata": {},
   "outputs": [
    {
     "name": "stdout",
     "output_type": "stream",
     "text": [
      "Coluna: Pregnancies, Tipos de dados: float64\n",
      "\n",
      "Coluna: Glucose, Tipos de dados: int64\n",
      "\n",
      "Coluna: BloodPressure, Tipos de dados: int64\n",
      "\n",
      "Coluna: SkinThickness, Tipos de dados: int64\n",
      "\n",
      "Coluna: Insulin, Tipos de dados: int64\n",
      "\n",
      "Coluna: BMI, Tipos de dados: float64\n",
      "\n",
      "Coluna: DiabetesPedigreeFunction, Tipos de dados: float64\n",
      "\n",
      "Coluna: Age, Tipos de dados: int64\n",
      "\n",
      "Coluna: Outcome, Tipos de dados: int64\n",
      "\n"
     ]
    }
   ],
   "source": [
    "for coluna in df.columns:\n",
    "    print(f'Coluna: {coluna}, Tipos de dados: {df[coluna].dtypes}\\n')"
   ]
  }
 ],
 "metadata": {
  "kernelspec": {
   "display_name": "Python 3",
   "language": "python",
   "name": "python3"
  },
  "language_info": {
   "codemirror_mode": {
    "name": "ipython",
    "version": 3
   },
   "file_extension": ".py",
   "mimetype": "text/x-python",
   "name": "python",
   "nbconvert_exporter": "python",
   "pygments_lexer": "ipython3",
   "version": "3.12.4"
  }
 },
 "nbformat": 4,
 "nbformat_minor": 2
}
